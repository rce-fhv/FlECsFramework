{
 "cells": [
  {
   "cell_type": "code",
   "execution_count": 1,
   "metadata": {},
   "outputs": [
    {
     "name": "stdout",
     "output_type": "stream",
     "text": [
      "WARNING:tensorflow:From c:\\Users\\molu\\AppData\\Local\\miniconda3\\envs\\EEG_2\\lib\\site-packages\\keras\\src\\losses.py:2976: The name tf.losses.sparse_softmax_cross_entropy is deprecated. Please use tf.compat.v1.losses.sparse_softmax_cross_entropy instead.\n",
      "\n"
     ]
    }
   ],
   "source": [
    "# Import python libraries\n",
    "#\n",
    "import pandas as pd\n",
    "import numpy as np\n",
    "import matplotlib.pyplot as plt\n",
    "import tensorflow.keras as keras\n",
    "import importlib\n",
    "from tqdm import tqdm\n",
    "import pickle\n",
    "import plotly.graph_objects as go\n",
    "from joblib import Parallel, delayed\n",
    "from IPython.display import display\n",
    "from sklearn.metrics import mean_squared_error\n",
    "from sklearn.neighbors import KNeighborsRegressor\n",
    "from sklearn.metrics import mean_squared_error\n",
    "\n",
    "# Imports own modules.\n",
    "# All imports are done relative to the root of the project.\n",
    "#\n",
    "import sys\n",
    "sys.path.append('../../')\n",
    "import controller.model.Model as model\n",
    "import models.weather_data as weather_data\n",
    "import models.demandprofiles_readout as demandprofiles\n",
    "import controller.model.LstmAdapter as LstmAdapter\n",
    "import controller.model.visualization as visualization\n",
    "import models.standardprofiles_readout as standardprofiles\n"
   ]
  },
  {
   "cell_type": "code",
   "execution_count": 75,
   "metadata": {},
   "outputs": [],
   "source": [
    "importlib.reload(weather_data)\n",
    "importlib.reload(demandprofiles)\n",
    "importlib.reload(LstmAdapter)\n",
    "importlib.reload(standardprofiles)\n",
    "\n",
    "def get_lstm_data(seed=None, shuffle_data=True):\n",
    "\n",
    "    # Readout the weather data\n",
    "    #\n",
    "    weather_measurements = weather_data.WeatherMeasurements()\n",
    "    weatherData = weather_measurements.get_data()\n",
    "\n",
    "    # Readout the aggregated characteristic power profiles and bring it to \n",
    "    # the format needed by the model\n",
    "    #\n",
    "    profiles = demandprofiles.DemandProfiles_Readout()\n",
    "    powerProfile = profiles.get_aggregated_powerprofile()\n",
    "    lstmAdapter = LstmAdapter.LstmAdapter(train_size = 265, dev_size = 0, add_tda_features=True, addAllFeatures=True, shuffle_data=shuffle_data, seed=seed)\n",
    "    X_model, Y_model = lstmAdapter.transformData(powerProfile, weatherData)\n",
    "\n",
    "    return X_model, Y_model, lstmAdapter\n",
    "\n",
    "X, Y, lstmAdapter = get_lstm_data()\n"
   ]
  },
  {
   "cell_type": "code",
   "execution_count": 22,
   "metadata": {},
   "outputs": [
    {
     "name": "stdout",
     "output_type": "stream",
     "text": [
      "mse_train: ['0.00000', '0.28567', '0.48064', '0.58146', '0.62128', '0.57084', '0.46750', '0.32497', '0.51064']\n",
      "mse_test:  ['0.00000', '0.25499', '0.41372', '0.46414', '0.46026', '0.50043', '0.34296', '0.21146', '0.37060']\n"
     ]
    }
   ],
   "source": [
    "# Benchmark: Persistent Forecast\n",
    "# Calculate the MSE for each powerprofile compared to the powerprofile x days ago\n",
    "#\n",
    "\n",
    "from sklearn.metrics import mean_squared_error\n",
    "\n",
    "def calculate_mse(dataset_type):\n",
    "    result = []\n",
    "    for lag in range(0, 9):\n",
    "        mse_values = []\n",
    "        for i in range(Y[dataset_type].shape[0]):\n",
    "            current_profile = Y[dataset_type][i, None, :, 0]\n",
    "            past_day = lstmAdapter.getUnshuffeledIndex(dataset_type, i) - lag\n",
    "            if past_day >= 0:\n",
    "                past_profile = Y['all'][past_day, None, :, 0]\n",
    "                mse_values.append(mean_squared_error(current_profile, past_profile))\n",
    "        result.append(\"{:.5f}\".format(np.mean(mse_values)))\n",
    "    return result\n",
    "print(f\"mse_train:\", calculate_mse('train'))\n",
    "print(f\"mse_test: \", calculate_mse('test'))\n"
   ]
  },
  {
   "cell_type": "code",
   "execution_count": 124,
   "metadata": {},
   "outputs": [
    {
     "name": "stdout",
     "output_type": "stream",
     "text": [
      "MSE: 0.08611\n"
     ]
    }
   ],
   "source": [
    "# Benchmark: Persistent Forecast with average of the last x*7 days\n",
    "#\n",
    "\n",
    "mse_values = []\n",
    "# lag = np.array([-14,-7,7,14,21,])\n",
    "lag = np.array([7,14,21])\n",
    "for i in range(Y['all'].shape[0] - 14):\n",
    "    current_profile = Y['all'][i, None, :, 0]\n",
    "    reference_days = i - lag\n",
    "    if np.all(reference_days >= 0):#  and np.all(reference_days < 362) :\n",
    "        past_profiles = Y['all'][reference_days, None, :, 0]\n",
    "        mean_past_profile = np.mean(past_profiles, axis=0)\n",
    "        mse_values.append(mean_squared_error(current_profile, mean_past_profile))\n",
    "mse = np.mean(mse_values)\n",
    "print(f\"MSE: {mse:.5f}\")\n"
   ]
  },
  {
   "cell_type": "code",
   "execution_count": 4,
   "metadata": {},
   "outputs": [
    {
     "name": "stdout",
     "output_type": "stream",
     "text": [
      "Test MSE: 0.22226952728044866\n"
     ]
    }
   ],
   "source": [
    "# Benchmark: KNN with univariate output\n",
    "#\n",
    "\n",
    "# Split the data into training and testing sets\n",
    "X_train = X['train'][:, 24:, :19].reshape(-1, 19)\n",
    "X_test = X['test'][:, 24:, :19].reshape(-1, 19)\n",
    "Y_train = Y['train'][:, :, 0].reshape(-1)\n",
    "Y_test = Y['test'][:, :, 0].reshape(-1)\n",
    "\n",
    "# Create and fit the KNeighborsRegressor model\n",
    "knn_model = KNeighborsRegressor(n_neighbors=5)\n",
    "knn_model.fit(X_train, Y_train)\n",
    "\n",
    "# Predict\n",
    "print(\"Test MSE:\", mean_squared_error(Y_test, knn_model.predict(X_test)))\n"
   ]
  },
  {
   "cell_type": "code",
   "execution_count": 31,
   "metadata": {},
   "outputs": [
    {
     "name": "stdout",
     "output_type": "stream",
     "text": [
      "Seed = 0. Test MSE: 0.08349037557757634\n",
      "Seed = 1. Test MSE: 0.11711166816201617\n",
      "Seed = 2. Test MSE: 0.10690521010029959\n",
      "Seed = 3. Test MSE: 0.12938869724691782\n",
      "Seed = 4. Test MSE: 0.08798795339434383\n",
      "Seed = 5. Test MSE: 0.08525720049051837\n",
      "Seed = 6. Test MSE: 0.09285150165929151\n",
      "Seed = 7. Test MSE: 0.08483456240676424\n",
      "Seed = 8. Test MSE: 0.08137954639865293\n",
      "Seed = 9. Test MSE: 0.09042679178240681\n"
     ]
    }
   ],
   "source": [
    "# Benchmark: KNN with multivariate output\n",
    "#\n",
    "\n",
    "for seed in range(10):\n",
    "    X, Y, lstmAdapter = get_lstm_data()\n",
    "\n",
    "    # Split the data into training and testing sets\n",
    "    X_train_knn = X['train'][:, :, :].reshape(X['train'].shape[0], -1)\n",
    "    X_test_knn = X['test'][:, :, :].reshape(X['test'].shape[0], -1)\n",
    "    Y_train_knn = Y['train'][:, :, 0]\n",
    "    Y_test_knn = Y['test'][:, :, 0]\n",
    "\n",
    "    # Create and fit the KNeighborsRegressor model\n",
    "    knn_model = KNeighborsRegressor(n_neighbors=5)\n",
    "    knn_model.fit(X_train_knn, Y_train_knn)\n",
    "\n",
    "    # Predict\n",
    "    predicted_profile = knn_model.predict(X_test_knn)\n",
    "    print(\"Seed = \" + str(seed) + \". Test MSE:\", mean_squared_error(Y_test_knn, predicted_profile))\n",
    "\n"
   ]
  },
  {
   "cell_type": "code",
   "execution_count": 131,
   "metadata": {},
   "outputs": [
    {
     "data": {
      "application/vnd.plotly.v1+json": {
       "config": {
        "plotlyServerURL": "https://plot.ly"
       },
       "data": [
        {
         "type": "scatter",
         "y": [
          0.6977388620467752,
          0.6400931728147463,
          0.3527501352402529,
          0.3072790934999036,
          0.26266223537403216,
          0.15573882353744123,
          0.06395376516198416,
          0.2209571148348255,
          0.2231380611194411,
          0.12357692019324608,
          0.19076948441123945,
          0.11240604404858813,
          0.03877788219881315,
          0.04796332197197401,
          0.0983517350666665,
          0.0850351198111458,
          0.17643171996532925,
          0.04337390196787908,
          0.04641300587590144,
          0.06935448587962004,
          0.028249816294847612,
          0.0580435138490886,
          0.06834005139998155,
          0.07272367871850764,
          0.07720100085715986,
          0.03533404050013244,
          0.015098844517363421,
          0.052991383344760244,
          0.09865012137728284,
          0.0860303201253586,
          0.08663889123136646,
          0.031443773237674964,
          0.028027842336985572,
          0.07085061007294764,
          0.0479168755722654,
          0.03694197294782417,
          0.09329411857231999,
          0.05861338986663047,
          0.02760964853939767,
          0.052651368188037236,
          0.06007785353589005,
          0.07877292897873898,
          0.16544195911007828,
          0.2517597141266327,
          0.057553501898098935,
          0.030971809047148285,
          0.07731161657108117,
          0.07997311159066557,
          0.059002282251117984,
          0.062241249465948396,
          0.10417027489161707,
          0.06285744292977101,
          0.048271188241146755,
          0.048855894736594685,
          0.03257230828096261,
          0.08710449120593135,
          0.09135325328604427,
          0.05309963313084398,
          0.07298086946686261,
          0.048548943227670616,
          0.053012792135105104,
          0.06307107948040934,
          0.1264101681604021,
          0.2653690636690058,
          0.31068652787335055,
          0.11076417468342126,
          0.15177692194527406,
          0.11265487866462415,
          0.1808579829841556,
          0.20343890637156323,
          0.1778762779055382,
          0.26466822349187746,
          0.4054305599973118,
          0.11930616317767347,
          0.16840657707273446,
          0.11673236741048819,
          0.3422927722020724,
          0.09898069836086794,
          0.226834909915555,
          0.8420876954748469,
          0.19567671483475987,
          0.11855947043920596,
          0.1865985324900489,
          0.13457207450617784,
          0.0804420516572449,
          0.11875837652817978,
          0.09070593481869182,
          0.10807606733898911,
          0.12189532050182977,
          0.027108145013910522,
          0.0625861121021934,
          0.047406302906997634,
          0.21178564785976484,
          0.21493562098365868,
          0.195456705564798,
          0.04326797631117272,
          0.10797886365625005,
          0.09635738537824991,
          0.10461283719509616,
          0.15339190893029397,
          0.13277633306398642,
          0.05146289666368616,
          0.06320066237103475,
          0.061931796599737944,
          0.11503266238558861,
          0.1002657391699483,
          0.07368645768210118,
          0.19602967191404516,
          0.08165617777270766,
          0.02080078181408315,
          0.04591095456656045,
          0.031936618439614754,
          0.03637564258993314,
          0.03653774335843644,
          0.04968691610559364,
          0.0334180750070883,
          0.035516848812079865,
          0.3631787101714046,
          0.22128604298858712,
          0.09510053481047448,
          0.0693580178140251,
          0.06390124946901617,
          0.028816148989550334,
          0.024604083696279404,
          0.06835902568736348,
          0.0597745359651875,
          0.11033628076728079,
          0.10746626643154904,
          0.5935291197134138,
          0.19638388456874345,
          0.06667084586493022,
          0.08762659476020096,
          0.05119730900767708,
          0.06627509543645994,
          0.17450285584290612,
          0.0918386621137523,
          0.055232279697116006,
          0.07135402832255155,
          0.05725146275940437,
          0.08082788699277214,
          0.10600476436701349,
          0.2138726637436467,
          0.22353179564501705,
          0.16352097586131834,
          0.17489279495634927,
          0.11829386367612477,
          0.156783417591967,
          0.15853004756246025,
          0.06687011934993244,
          0.052262111600494786,
          0.09350824433276435,
          0.06694286536298887,
          0.1659507944233702,
          0.10074210342674939,
          0.04960340629451968,
          0.0360156725662552,
          0.08087727100506953,
          0.0797545077868205,
          0.050642125018758366,
          0.05174630968374474,
          0.0468058638761002,
          0.034414734761894585,
          0.0441412863313976,
          0.09360871048826351,
          0.11624428392730857,
          0.07708045418447527,
          0.044577643750184665,
          0.09108647592704888,
          0.05334742859634214,
          0.06678669246816221,
          0.0576502538136047,
          0.051393190379823615,
          0.02986080884176975,
          0.030363819762879492,
          0.029895505840095423,
          0.047752960441199144,
          0.06825696610662059,
          0.04043874346915058,
          0.03211738747778808,
          0.029583941884969503,
          0.01763004600567895,
          0.02723527852290003,
          0.03812488994129537,
          0.021729228125240474,
          0.045184377050787206,
          0.0251906217612731,
          0.024143129113363773,
          0.018463667911486906,
          0.032131749791317644,
          0.03843991615943774,
          0.01888961096830056,
          0.027508976455283597,
          0.02703910788601666,
          0.0350853518482511,
          0.021692678419816935,
          0.0349585497682787,
          0.03646356688886934,
          0.04677614392453122,
          0.03897902108116792,
          0.09853621673923714,
          0.0439090481669126,
          0.02797599204017559,
          0.038483613541835986,
          0.05816130802410439,
          0.06818569964798286,
          0.0713513119663778,
          0.018220170858079004,
          0.026244600011851676,
          0.06260193590374395,
          0.06504111551711698,
          0.11557507618759277,
          0.19219608864458104,
          0.17932720141838945,
          0.020844817676338886,
          0.07961358347963175,
          0.039320490955445674,
          0.04075610335153146,
          0.03818666226280661,
          0.0629597122980576,
          0.03678367812161124,
          0.05624010442196046,
          0.02021619557391253,
          0.022935220789798857,
          0.0460942169775052,
          0.05719390808714528,
          0.04202646515958883,
          0.07746730844010223,
          0.049970020020090315,
          0.08841522266779812,
          0.09414225586804614,
          0.0816739773884201,
          0.09406334699436429,
          0.16256513501377978,
          0.078769959128599,
          0.04587699407940896,
          0.060024165090179354,
          0.10641776742956276,
          0.05378702398238258,
          0.034470813604363576,
          0.08054060558657938,
          0.03129837187028257,
          0.055871280924070586,
          0.12318585824164648,
          0.09031893238743655,
          0.049556339031680656,
          0.056787538229783434,
          0.07882933106077322,
          0.07233703501473256,
          0.04364144967730904,
          0.05698128919138573,
          0.045282698217345985,
          0.04998357801453435,
          0.04304364955447478,
          0.12541999972981585,
          0.0462119498859165,
          0.05655250431195454,
          0.09551714671198079,
          0.0371535696175822,
          0.032607231373425465,
          0.09785249684324766,
          0.1218966864211184,
          0.05032055865945528,
          0.06406927875009477,
          0.01925203756909733,
          0.04412711605167996,
          0.026297367620624717,
          0.06331107260760861,
          0.10587135073548994,
          0.10230328418958916,
          0.08294681818574197,
          0.05579885301987909,
          0.03705325943966326,
          0.10934318408106629,
          0.3585311995069911,
          0.12972268464957173,
          0.035959930595602076,
          0.026830280975720554,
          0.02184942167274458,
          0.036011065868130666,
          0.05529628187297425,
          0.2644211230022364,
          0.2998712833530413,
          0.43180888205530027,
          0.08806506970208423,
          0.10769093604151748,
          0.08621429053684541,
          0.08268915787701538,
          0.028905721917408478,
          0.07611409952693908,
          0.1137985645767915,
          0.07664520518364237,
          0.03191758010949164,
          0.06883081665073712,
          0.11432885942424548,
          0.03441280914742044,
          0.21832842169362074,
          0.14422515189740212,
          0.05266723280141553,
          0.06086876097339918,
          0.0786643479020164,
          0.05178753088068524,
          0.039306392609322664,
          0.0972568901319557,
          0.1110302948434644,
          0.06433402213904998,
          0.10925450317330444,
          0.11136340573388359,
          0.11084908495574097,
          0.0760687732286486,
          0.0918533006971296,
          0.16389568339988717,
          0.055031248298424616,
          0.08145351102270583,
          0.019278701650380158,
          0.03313663438485624,
          0.05879553632635631,
          0.034033923074922146,
          0.036066741428277004,
          0.06553667270242765,
          0.04775462743961775,
          0.11721823756444522,
          0.09308414373359397,
          0.06176452626169613,
          0.08096843092762553,
          0.14775178501787045,
          0.041233774601347334,
          0.13476185117730274,
          0.1248996556153828,
          0.043569387362252854,
          0.1394742400899086,
          0.1789025800241365,
          0.11517882239041043,
          0.03912187226627252,
          0.03971642806046525,
          0.058392330640760604,
          0.027861537286326243,
          0.031867439968161757,
          0.08165322606141186,
          0.08589175395271963,
          0.07347701977079618,
          0.19167733229116016,
          0.3736223826120995,
          1.718687010441282,
          0.5941958186546058,
          0.0740313553886661,
          0.4218538740265667,
          0.25504214776057754,
          0.31807667693408787,
          0.22450721696527443,
          0.30367284328884164,
          5.92505614304331,
          3.8947938545138236,
          2.087306295255091,
          1.0189417018673117,
          0.28177113836715684,
          0
         ]
        }
       ],
       "layout": {
        "template": {
         "data": {
          "bar": [
           {
            "error_x": {
             "color": "#2a3f5f"
            },
            "error_y": {
             "color": "#2a3f5f"
            },
            "marker": {
             "line": {
              "color": "#E5ECF6",
              "width": 0.5
             },
             "pattern": {
              "fillmode": "overlay",
              "size": 10,
              "solidity": 0.2
             }
            },
            "type": "bar"
           }
          ],
          "barpolar": [
           {
            "marker": {
             "line": {
              "color": "#E5ECF6",
              "width": 0.5
             },
             "pattern": {
              "fillmode": "overlay",
              "size": 10,
              "solidity": 0.2
             }
            },
            "type": "barpolar"
           }
          ],
          "carpet": [
           {
            "aaxis": {
             "endlinecolor": "#2a3f5f",
             "gridcolor": "white",
             "linecolor": "white",
             "minorgridcolor": "white",
             "startlinecolor": "#2a3f5f"
            },
            "baxis": {
             "endlinecolor": "#2a3f5f",
             "gridcolor": "white",
             "linecolor": "white",
             "minorgridcolor": "white",
             "startlinecolor": "#2a3f5f"
            },
            "type": "carpet"
           }
          ],
          "choropleth": [
           {
            "colorbar": {
             "outlinewidth": 0,
             "ticks": ""
            },
            "type": "choropleth"
           }
          ],
          "contour": [
           {
            "colorbar": {
             "outlinewidth": 0,
             "ticks": ""
            },
            "colorscale": [
             [
              0,
              "#0d0887"
             ],
             [
              0.1111111111111111,
              "#46039f"
             ],
             [
              0.2222222222222222,
              "#7201a8"
             ],
             [
              0.3333333333333333,
              "#9c179e"
             ],
             [
              0.4444444444444444,
              "#bd3786"
             ],
             [
              0.5555555555555556,
              "#d8576b"
             ],
             [
              0.6666666666666666,
              "#ed7953"
             ],
             [
              0.7777777777777778,
              "#fb9f3a"
             ],
             [
              0.8888888888888888,
              "#fdca26"
             ],
             [
              1,
              "#f0f921"
             ]
            ],
            "type": "contour"
           }
          ],
          "contourcarpet": [
           {
            "colorbar": {
             "outlinewidth": 0,
             "ticks": ""
            },
            "type": "contourcarpet"
           }
          ],
          "heatmap": [
           {
            "colorbar": {
             "outlinewidth": 0,
             "ticks": ""
            },
            "colorscale": [
             [
              0,
              "#0d0887"
             ],
             [
              0.1111111111111111,
              "#46039f"
             ],
             [
              0.2222222222222222,
              "#7201a8"
             ],
             [
              0.3333333333333333,
              "#9c179e"
             ],
             [
              0.4444444444444444,
              "#bd3786"
             ],
             [
              0.5555555555555556,
              "#d8576b"
             ],
             [
              0.6666666666666666,
              "#ed7953"
             ],
             [
              0.7777777777777778,
              "#fb9f3a"
             ],
             [
              0.8888888888888888,
              "#fdca26"
             ],
             [
              1,
              "#f0f921"
             ]
            ],
            "type": "heatmap"
           }
          ],
          "heatmapgl": [
           {
            "colorbar": {
             "outlinewidth": 0,
             "ticks": ""
            },
            "colorscale": [
             [
              0,
              "#0d0887"
             ],
             [
              0.1111111111111111,
              "#46039f"
             ],
             [
              0.2222222222222222,
              "#7201a8"
             ],
             [
              0.3333333333333333,
              "#9c179e"
             ],
             [
              0.4444444444444444,
              "#bd3786"
             ],
             [
              0.5555555555555556,
              "#d8576b"
             ],
             [
              0.6666666666666666,
              "#ed7953"
             ],
             [
              0.7777777777777778,
              "#fb9f3a"
             ],
             [
              0.8888888888888888,
              "#fdca26"
             ],
             [
              1,
              "#f0f921"
             ]
            ],
            "type": "heatmapgl"
           }
          ],
          "histogram": [
           {
            "marker": {
             "pattern": {
              "fillmode": "overlay",
              "size": 10,
              "solidity": 0.2
             }
            },
            "type": "histogram"
           }
          ],
          "histogram2d": [
           {
            "colorbar": {
             "outlinewidth": 0,
             "ticks": ""
            },
            "colorscale": [
             [
              0,
              "#0d0887"
             ],
             [
              0.1111111111111111,
              "#46039f"
             ],
             [
              0.2222222222222222,
              "#7201a8"
             ],
             [
              0.3333333333333333,
              "#9c179e"
             ],
             [
              0.4444444444444444,
              "#bd3786"
             ],
             [
              0.5555555555555556,
              "#d8576b"
             ],
             [
              0.6666666666666666,
              "#ed7953"
             ],
             [
              0.7777777777777778,
              "#fb9f3a"
             ],
             [
              0.8888888888888888,
              "#fdca26"
             ],
             [
              1,
              "#f0f921"
             ]
            ],
            "type": "histogram2d"
           }
          ],
          "histogram2dcontour": [
           {
            "colorbar": {
             "outlinewidth": 0,
             "ticks": ""
            },
            "colorscale": [
             [
              0,
              "#0d0887"
             ],
             [
              0.1111111111111111,
              "#46039f"
             ],
             [
              0.2222222222222222,
              "#7201a8"
             ],
             [
              0.3333333333333333,
              "#9c179e"
             ],
             [
              0.4444444444444444,
              "#bd3786"
             ],
             [
              0.5555555555555556,
              "#d8576b"
             ],
             [
              0.6666666666666666,
              "#ed7953"
             ],
             [
              0.7777777777777778,
              "#fb9f3a"
             ],
             [
              0.8888888888888888,
              "#fdca26"
             ],
             [
              1,
              "#f0f921"
             ]
            ],
            "type": "histogram2dcontour"
           }
          ],
          "mesh3d": [
           {
            "colorbar": {
             "outlinewidth": 0,
             "ticks": ""
            },
            "type": "mesh3d"
           }
          ],
          "parcoords": [
           {
            "line": {
             "colorbar": {
              "outlinewidth": 0,
              "ticks": ""
             }
            },
            "type": "parcoords"
           }
          ],
          "pie": [
           {
            "automargin": true,
            "type": "pie"
           }
          ],
          "scatter": [
           {
            "fillpattern": {
             "fillmode": "overlay",
             "size": 10,
             "solidity": 0.2
            },
            "type": "scatter"
           }
          ],
          "scatter3d": [
           {
            "line": {
             "colorbar": {
              "outlinewidth": 0,
              "ticks": ""
             }
            },
            "marker": {
             "colorbar": {
              "outlinewidth": 0,
              "ticks": ""
             }
            },
            "type": "scatter3d"
           }
          ],
          "scattercarpet": [
           {
            "marker": {
             "colorbar": {
              "outlinewidth": 0,
              "ticks": ""
             }
            },
            "type": "scattercarpet"
           }
          ],
          "scattergeo": [
           {
            "marker": {
             "colorbar": {
              "outlinewidth": 0,
              "ticks": ""
             }
            },
            "type": "scattergeo"
           }
          ],
          "scattergl": [
           {
            "marker": {
             "colorbar": {
              "outlinewidth": 0,
              "ticks": ""
             }
            },
            "type": "scattergl"
           }
          ],
          "scattermapbox": [
           {
            "marker": {
             "colorbar": {
              "outlinewidth": 0,
              "ticks": ""
             }
            },
            "type": "scattermapbox"
           }
          ],
          "scatterpolar": [
           {
            "marker": {
             "colorbar": {
              "outlinewidth": 0,
              "ticks": ""
             }
            },
            "type": "scatterpolar"
           }
          ],
          "scatterpolargl": [
           {
            "marker": {
             "colorbar": {
              "outlinewidth": 0,
              "ticks": ""
             }
            },
            "type": "scatterpolargl"
           }
          ],
          "scatterternary": [
           {
            "marker": {
             "colorbar": {
              "outlinewidth": 0,
              "ticks": ""
             }
            },
            "type": "scatterternary"
           }
          ],
          "surface": [
           {
            "colorbar": {
             "outlinewidth": 0,
             "ticks": ""
            },
            "colorscale": [
             [
              0,
              "#0d0887"
             ],
             [
              0.1111111111111111,
              "#46039f"
             ],
             [
              0.2222222222222222,
              "#7201a8"
             ],
             [
              0.3333333333333333,
              "#9c179e"
             ],
             [
              0.4444444444444444,
              "#bd3786"
             ],
             [
              0.5555555555555556,
              "#d8576b"
             ],
             [
              0.6666666666666666,
              "#ed7953"
             ],
             [
              0.7777777777777778,
              "#fb9f3a"
             ],
             [
              0.8888888888888888,
              "#fdca26"
             ],
             [
              1,
              "#f0f921"
             ]
            ],
            "type": "surface"
           }
          ],
          "table": [
           {
            "cells": {
             "fill": {
              "color": "#EBF0F8"
             },
             "line": {
              "color": "white"
             }
            },
            "header": {
             "fill": {
              "color": "#C8D4E3"
             },
             "line": {
              "color": "white"
             }
            },
            "type": "table"
           }
          ]
         },
         "layout": {
          "annotationdefaults": {
           "arrowcolor": "#2a3f5f",
           "arrowhead": 0,
           "arrowwidth": 1
          },
          "autotypenumbers": "strict",
          "coloraxis": {
           "colorbar": {
            "outlinewidth": 0,
            "ticks": ""
           }
          },
          "colorscale": {
           "diverging": [
            [
             0,
             "#8e0152"
            ],
            [
             0.1,
             "#c51b7d"
            ],
            [
             0.2,
             "#de77ae"
            ],
            [
             0.3,
             "#f1b6da"
            ],
            [
             0.4,
             "#fde0ef"
            ],
            [
             0.5,
             "#f7f7f7"
            ],
            [
             0.6,
             "#e6f5d0"
            ],
            [
             0.7,
             "#b8e186"
            ],
            [
             0.8,
             "#7fbc41"
            ],
            [
             0.9,
             "#4d9221"
            ],
            [
             1,
             "#276419"
            ]
           ],
           "sequential": [
            [
             0,
             "#0d0887"
            ],
            [
             0.1111111111111111,
             "#46039f"
            ],
            [
             0.2222222222222222,
             "#7201a8"
            ],
            [
             0.3333333333333333,
             "#9c179e"
            ],
            [
             0.4444444444444444,
             "#bd3786"
            ],
            [
             0.5555555555555556,
             "#d8576b"
            ],
            [
             0.6666666666666666,
             "#ed7953"
            ],
            [
             0.7777777777777778,
             "#fb9f3a"
            ],
            [
             0.8888888888888888,
             "#fdca26"
            ],
            [
             1,
             "#f0f921"
            ]
           ],
           "sequentialminus": [
            [
             0,
             "#0d0887"
            ],
            [
             0.1111111111111111,
             "#46039f"
            ],
            [
             0.2222222222222222,
             "#7201a8"
            ],
            [
             0.3333333333333333,
             "#9c179e"
            ],
            [
             0.4444444444444444,
             "#bd3786"
            ],
            [
             0.5555555555555556,
             "#d8576b"
            ],
            [
             0.6666666666666666,
             "#ed7953"
            ],
            [
             0.7777777777777778,
             "#fb9f3a"
            ],
            [
             0.8888888888888888,
             "#fdca26"
            ],
            [
             1,
             "#f0f921"
            ]
           ]
          },
          "colorway": [
           "#636efa",
           "#EF553B",
           "#00cc96",
           "#ab63fa",
           "#FFA15A",
           "#19d3f3",
           "#FF6692",
           "#B6E880",
           "#FF97FF",
           "#FECB52"
          ],
          "font": {
           "color": "#2a3f5f"
          },
          "geo": {
           "bgcolor": "white",
           "lakecolor": "white",
           "landcolor": "#E5ECF6",
           "showlakes": true,
           "showland": true,
           "subunitcolor": "white"
          },
          "hoverlabel": {
           "align": "left"
          },
          "hovermode": "closest",
          "mapbox": {
           "style": "light"
          },
          "paper_bgcolor": "white",
          "plot_bgcolor": "#E5ECF6",
          "polar": {
           "angularaxis": {
            "gridcolor": "white",
            "linecolor": "white",
            "ticks": ""
           },
           "bgcolor": "#E5ECF6",
           "radialaxis": {
            "gridcolor": "white",
            "linecolor": "white",
            "ticks": ""
           }
          },
          "scene": {
           "xaxis": {
            "backgroundcolor": "#E5ECF6",
            "gridcolor": "white",
            "gridwidth": 2,
            "linecolor": "white",
            "showbackground": true,
            "ticks": "",
            "zerolinecolor": "white"
           },
           "yaxis": {
            "backgroundcolor": "#E5ECF6",
            "gridcolor": "white",
            "gridwidth": 2,
            "linecolor": "white",
            "showbackground": true,
            "ticks": "",
            "zerolinecolor": "white"
           },
           "zaxis": {
            "backgroundcolor": "#E5ECF6",
            "gridcolor": "white",
            "gridwidth": 2,
            "linecolor": "white",
            "showbackground": true,
            "ticks": "",
            "zerolinecolor": "white"
           }
          },
          "shapedefaults": {
           "line": {
            "color": "#2a3f5f"
           }
          },
          "ternary": {
           "aaxis": {
            "gridcolor": "white",
            "linecolor": "white",
            "ticks": ""
           },
           "baxis": {
            "gridcolor": "white",
            "linecolor": "white",
            "ticks": ""
           },
           "bgcolor": "#E5ECF6",
           "caxis": {
            "gridcolor": "white",
            "linecolor": "white",
            "ticks": ""
           }
          },
          "title": {
           "x": 0.05
          },
          "xaxis": {
           "automargin": true,
           "gridcolor": "white",
           "linecolor": "white",
           "ticks": "",
           "title": {
            "standoff": 15
           },
           "zerolinecolor": "white",
           "zerolinewidth": 2
          },
          "yaxis": {
           "automargin": true,
           "gridcolor": "white",
           "linecolor": "white",
           "ticks": "",
           "title": {
            "standoff": 15
           },
           "zerolinecolor": "white",
           "zerolinewidth": 2
          }
         }
        }
       }
      }
     },
     "metadata": {},
     "output_type": "display_data"
    },
    {
     "name": "stdout",
     "output_type": "stream",
     "text": [
      "MSE: 0.08611\n"
     ]
    }
   ],
   "source": [
    "# Benchmark: KNN with multivariate output and moving horizone\n",
    "#\n",
    "\n",
    "mse_over_days = []\n",
    "\n",
    "for day in range(7, 363):\n",
    "\n",
    "    # Split the data into training and testing sets\n",
    "    X_train_knn = define_inputs(X['all'][:day, :, :], left_out_features)\n",
    "    X_test_knn = define_inputs(X['all'][day, np.newaxis, :, :], left_out_features)\n",
    "    Y_train_knn = Y['all'][:day, :, 0]\n",
    "    Y_test_knn = Y['all'][day, np.newaxis, :, 0]\n",
    "\n",
    "    # Create and fit the KNeighborsRegressor model\n",
    "    knn_model = KNeighborsRegressor(n_neighbors=5)\n",
    "    knn_model.fit(X_train_knn, Y_train_knn)\n",
    "\n",
    "    # Predict\n",
    "    predicted_profile = knn_model.predict(X_test_knn)\n",
    "    mse = mean_squared_error(Y_test_knn, predicted_profile)\n",
    "    mse_over_days.append(mse)\n",
    "\n",
    "fig = go.Figure()\n",
    "fig.add_trace(go.Scatter(y=mse_over_days))\n",
    "fig.show()\n",
    "\n",
    "mse = np.mean(mse_values)\n",
    "print(f\"MSE: {mse:.5f}\")\n"
   ]
  },
  {
   "cell_type": "code",
   "execution_count": 121,
   "metadata": {},
   "outputs": [
    {
     "name": "stdout",
     "output_type": "stream",
     "text": [
      "9.674723759414766\n",
      "357 [[ 14  34  30  43 281]] [[0 1 5 6 6]] [[68.39265025 68.43306291 68.49110992 69.5570548  69.70241328]]\n"
     ]
    }
   ],
   "source": [
    "\n",
    "test_day = 357\n",
    "day = test_day\n",
    "\n",
    "# Split the data into training and testing sets\n",
    "X_train_knn = X['all'][:day, :, :].reshape(day, -1)\n",
    "X_test_knn = X['all'][day, np.newaxis, :, :].reshape(1, -1)\n",
    "Y_train_knn = Y['all'][:day, :, 0]\n",
    "Y_test_knn = Y['all'][day, np.newaxis, :, 0]\n",
    "\n",
    "# Create and fit the KNeighborsRegressor model\n",
    "k = 5\n",
    "knn_model = KNeighborsRegressor(n_neighbors=k)\n",
    "knn_model.fit(X_train_knn, Y_train_knn)\n",
    "\n",
    "# Predict\n",
    "predicted_profile = knn_model.predict(X_test_knn)\n",
    "mse = mean_squared_error(Y_test_knn, predicted_profile)\n",
    "print(mse)\n",
    "\n",
    "distances, neighbours = knn_model.kneighbors(X_test_knn[: , :], n_neighbors=k, return_distance=True)\n",
    "arr = X_train_knn.reshape(X_train_knn.shape[0], -1)\n",
    "print(test_day, neighbours, (test_day-neighbours)%7, distances)\n"
   ]
  },
  {
   "cell_type": "code",
   "execution_count": 125,
   "metadata": {},
   "outputs": [],
   "source": [
    "\n",
    "all_features = ['Monday', 'Tuesday', 'Wednesday', 'Thursday', 'Friday', 'Saturday', \n",
    "                'Sunday or Public Holidy', 'hour_sin', 'hour_cos', 'day_of_year_sin', \n",
    "                'day_of_year_cos', 'weather_temp', \n",
    "                'pers_entropy_dim0', 'pers_entropy_dim1', 'pers_entropy_dim2', \n",
    "                'weather_prcp', 'weather_wspd', 'weather_tsun', 'prev_profile']\n",
    "\n",
    "left_out_features = ['hour_sin', 'hour_cos',\n",
    "                    'prev_profile', \n",
    "                    'weather_temp', 'weather_prcp', 'weather_wspd', 'weather_tsun',\n",
    "                    'pers_entropy_dim0', 'pers_entropy_dim1', 'pers_entropy_dim2' \n",
    "                    ]\n"
   ]
  },
  {
   "cell_type": "code",
   "execution_count": 48,
   "metadata": {},
   "outputs": [
    {
     "name": "stdout",
     "output_type": "stream",
     "text": [
      "Seed = 0. Test MSE: 0.5101952735891097\n",
      "Seed = 1. Test MSE: 0.5101952735891097\n",
      "Seed = 2. Test MSE: 0.5101952735891097\n",
      "Seed = 3. Test MSE: 0.5101952735891097\n",
      "Seed = 4. Test MSE: 0.5101952735891097\n",
      "Seed = 5. Test MSE: 0.5101952735891097\n",
      "Seed = 6. Test MSE: 0.5101952735891097\n",
      "Seed = 7. Test MSE: 0.5101952735891097\n",
      "Seed = 8. Test MSE: 0.5101952735891097\n",
      "Seed = 9. Test MSE: 0.5101952735891097\n"
     ]
    }
   ],
   "source": [
    "# Benchmark: KNN with multivariate output and missing features\n",
    "#\n",
    "\n",
    "def define_inputs(X, left_out_features):\n",
    "    indices = []\n",
    "    for feature in left_out_features:\n",
    "        index = np.argwhere(np.array(all_features) == feature)\n",
    "        indices.append(index)\n",
    "    X = np.delete(X, indices, axis=2)\n",
    "    # X = np.unique(X, axis=1)\n",
    "    # X = X[:, [0, 12 24 36], :]\n",
    "    X = X.reshape(X.shape[0], -1)\n",
    "    return X\n",
    "\n",
    "for seed in range(10):\n",
    "    X, Y, lstmAdapter = get_lstm_data(seed, shuffle_data=False)\n",
    "\n",
    "    # Split the data into training and testing sets\n",
    "    X_train_knn = define_inputs(X['train'][:, :, :], left_out_features)\n",
    "    X_test_knn = define_inputs(X['test'][:, :, :], left_out_features)\n",
    "    Y_train_knn = Y['train'][:, :, 0]\n",
    "    Y_test_knn = Y['test'][:, :, 0]\n",
    "\n",
    "    # Create and fit the KNeighborsRegressor model\n",
    "    knn_model = KNeighborsRegressor(n_neighbors=5)\n",
    "    knn_model.fit(X_train_knn, Y_train_knn)\n",
    "\n",
    "    # Predict\n",
    "    predicted_profile = knn_model.predict(X_test_knn)\n",
    "    print(\"Seed = \" + str(seed) + \". Test MSE:\", mean_squared_error(Y_test_knn, predicted_profile))\n",
    "\n"
   ]
  },
  {
   "cell_type": "code",
   "execution_count": 84,
   "metadata": {},
   "outputs": [
    {
     "name": "stdout",
     "output_type": "stream",
     "text": [
      "Test MSE: 0.12038752205038299\n",
      "[[ 99  71 186 154 178]]\n",
      "155 [162 148 141 176 134] [0 0 0 0 0] [[1.1788667  1.18088913 2.35993933 3.51545896 3.53321463]]\n"
     ]
    }
   ],
   "source": [
    "\n",
    "# X, Y, lstmAdapter = get_lstm_data()\n",
    "\n",
    "# Split the data into training and testing sets\n",
    "X_train_knn = define_inputs(X['train'][:, :, :], left_out_features)\n",
    "X_test_knn = define_inputs(X['test'][:, :, :], left_out_features)\n",
    "Y_train_knn = Y['train'][:, :, 0]\n",
    "Y_test_knn = Y['test'][:, :, 0]\n",
    "\n",
    "# Create and fit the KNeighborsRegressor model\n",
    "k=5\n",
    "knn_model = KNeighborsRegressor(n_neighbors=k)\n",
    "knn_model.fit(X_train_knn, Y_train_knn)\n",
    "\n",
    "# Predict\n",
    "predicted_profile = knn_model.predict(X_test_knn)\n",
    "print(\"Test MSE:\", mean_squared_error(Y_test_knn, predicted_profile))\n",
    "\n",
    "index = 0\n",
    "distances, neighbours_shuffled = knn_model.kneighbors(X_test_knn[index, None, :], n_neighbors=k, return_distance=True)\n",
    "print(neighbours_shuffled)\n",
    "arr = X_train_knn.reshape(X_train_knn.shape[0], -1)\n",
    "test_day = lstmAdapter.getUnshuffeledIndex('test', index)\n",
    "neighbour = lstmAdapter.getUnshuffeledIndex('train', neighbours_shuffled[0])\n",
    "print(test_day, neighbour, (test_day-neighbour)%7, distances)\n"
   ]
  },
  {
   "cell_type": "code",
   "execution_count": null,
   "metadata": {},
   "outputs": [],
   "source": []
  }
 ],
 "metadata": {
  "kernelspec": {
   "display_name": "EEG_2",
   "language": "python",
   "name": "python3"
  },
  "language_info": {
   "codemirror_mode": {
    "name": "ipython",
    "version": 3
   },
   "file_extension": ".py",
   "mimetype": "text/x-python",
   "name": "python",
   "nbconvert_exporter": "python",
   "pygments_lexer": "ipython3",
   "version": "3.10.13"
  }
 },
 "nbformat": 4,
 "nbformat_minor": 2
}
